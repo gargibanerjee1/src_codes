{
 "cells": [
  {
   "cell_type": "code",
   "execution_count": 1,
   "id": "6c4223ca-3a0b-4c35-9c84-964ec99d6c2c",
   "metadata": {},
   "outputs": [],
   "source": [
    "import pandas as pd\n",
    "from sklearn.preprocessing import MinMaxScaler"
   ]
  },
  {
   "cell_type": "code",
   "execution_count": 2,
   "id": "4ef9c5f0-e86b-4b88-91bf-5936089caf10",
   "metadata": {},
   "outputs": [],
   "source": [
    "# Data Loading\n",
    "df = pd.read_csv('green_supply_chain_dataset_1000.csv')"
   ]
  },
  {
   "cell_type": "code",
   "execution_count": 3,
   "id": "1b3e6b1d-cae7-4d89-a429-9370c0dfe553",
   "metadata": {},
   "outputs": [],
   "source": [
    "# Initialize the MinMaxScaler\n",
    "scaler = MinMaxScaler()"
   ]
  },
  {
   "cell_type": "code",
   "execution_count": 4,
   "id": "aca03a95-24fc-4ae8-991d-c9fd673ede42",
   "metadata": {},
   "outputs": [
    {
     "name": "stdout",
     "output_type": "stream",
     "text": [
      "Normalized Data Sample\n",
      "     Cost_$  CO2_Emissions_kg  Waste_Generated_kg  Energy_Consumption_kWh  \\\n",
      "0  0.940589          0.163604            0.073103                0.717471   \n",
      "1  0.164980          0.783466            0.622614                0.072078   \n",
      "2  0.234329          0.121748            0.981612                0.071249   \n",
      "3  0.264349          0.634975            0.190182                0.011995   \n",
      "4  0.037737          0.123099            0.792943                0.958079   \n",
      "\n",
      "   Sustainability_Score  \n",
      "0              0.869427  \n",
      "1              0.314366  \n",
      "2              0.360345  \n",
      "3              0.558745  \n",
      "4              0.412422  \n"
     ]
    }
   ],
   "source": [
    "#Normalization\n",
    "# Columns to normalize (Cost, CO2 Emissions, Sustainability Score)\n",
    "columns_to_normalize = ['Cost_$', 'CO2_Emissions_kg', 'Waste_Generated_kg', 'Energy_Consumption_kWh', 'Sustainability_Score']\n",
    "\n",
    "# Create a copy of the dataframe for normalized values\n",
    "df_normalized = df.copy()\n",
    "\n",
    "# Apply Min-Max scaling to the selected columns\n",
    "df_normalized[columns_to_normalize] = scaler.fit_transform(df_normalized[columns_to_normalize])\n",
    "\n",
    "# For objectives that are maximized (Sustainability_Score), transform them to be minimized\n",
    "# (1 - normalized_value) so that a higher original score translates to a lower 'min' score\n",
    "df_normalized['Sustainability_Score_min'] = 1 - df_normalized['Sustainability_Score']\n",
    "\n",
    "print(\"Normalized Data Sample\")\n",
    "print(df_normalized[['Cost_$', 'CO2_Emissions_kg', 'Waste_Generated_kg', 'Energy_Consumption_kWh', 'Sustainability_Score']].head())\n",
    "\n"
   ]
  },
  {
   "cell_type": "code",
   "execution_count": 26,
   "id": "1bd4b1ea-a84c-4807-8bc6-eb31a8e08eeb",
   "metadata": {},
   "outputs": [
    {
     "name": "stdout",
     "output_type": "stream",
     "text": [
      "Aggregated Method Solution\n",
      "Raw Values:\n",
      "ID                                730\n",
      "Product_Type              Electronics\n",
      "Cost_$                     308.020772\n",
      "CO2_Emissions_kg            82.658015\n",
      "Waste_Generated_kg           8.216503\n",
      "Energy_Consumption_kWh     175.441943\n",
      "Sustainability_Score            80.06\n",
      "Name: 729, dtype: object\n",
      "\n",
      "Normalized Values:\n",
      "Cost_$                      0.022356\n",
      "CO2_Emissions_kg            0.033487\n",
      "Waste_Generated_kg          0.147331\n",
      "Energy_Consumption_kWh      0.279124\n",
      "Sustainability_Score_min    0.145688\n",
      "Aggregated_Score            0.092588\n",
      "Name: 729, dtype: object\n"
     ]
    }
   ],
   "source": [
    "# 1. Aggregated Method (Corrected with Weights)\n",
    "\n",
    "weights = {\n",
    "    'Cost_$': 0.30,\n",
    "    'CO2_Emissions_kg': 0.30,\n",
    "    'Waste_Generated_kg': 0.13,\n",
    "    'Energy_Consumption_kWh': 0.13,\n",
    "    'Sustainability_Score_min': 0.14 # Assuming transformed for minimization\n",
    "}\n",
    "\n",
    "# Calculate aggregated score in normalized dataframe\n",
    "df_normalized['Aggregated_Score'] = (\n",
    "    weights['Cost_$'] * df_normalized['Cost_$'] +\n",
    "    weights['CO2_Emissions_kg'] * df_normalized['CO2_Emissions_kg'] +\n",
    "    weights['Waste_Generated_kg'] * df_normalized['Waste_Generated_kg'] +\n",
    "    weights['Energy_Consumption_kWh'] * df_normalized['Energy_Consumption_kWh'] +\n",
    "    weights['Sustainability_Score_min'] * df_normalized['Sustainability_Score_min']\n",
    ")\n",
    "\n",
    "# Find index of the best solution\n",
    "best_idx = df_normalized['Aggregated_Score'].idxmin()\n",
    "\n",
    "# Extract raw data row corresponding to best solution\n",
    "best_raw = df.loc[best_idx]\n",
    "\n",
    "# Extract normalized data row for the best solution\n",
    "best_norm = df_normalized.loc[best_idx]\n",
    "\n",
    "# Display combined results\n",
    "print(\"Aggregated Method Solution\")\n",
    "print(\"Raw Values:\")\n",
    "print(best_raw[['ID', 'Product_Type', 'Cost_$', 'CO2_Emissions_kg', 'Waste_Generated_kg', 'Energy_Consumption_kWh', 'Sustainability_Score']])\n",
    "print(\"\\nNormalized Values:\")\n",
    "print(best_norm[['Cost_$', 'CO2_Emissions_kg', 'Waste_Generated_kg', 'Energy_Consumption_kWh', 'Sustainability_Score_min', 'Aggregated_Score']])\n"
   ]
  },
  {
   "cell_type": "code",
   "execution_count": 24,
   "id": "72b8b97f-6aa7-4e49-ab71-9ff69f3a8433",
   "metadata": {},
   "outputs": [
    {
     "name": "stdout",
     "output_type": "stream",
     "text": [
      " Weighted Criteria Method\n",
      "Raw Values:\n",
      "ID                                    89\n",
      "Product_Type              Pharmaceutical\n",
      "Cost_$                        702.371043\n",
      "CO2_Emissions_kg              154.369958\n",
      "Waste_Generated_kg              4.381372\n",
      "Energy_Consumption_kWh        122.032236\n",
      "Sustainability_Score               90.22\n",
      "Name: 88, dtype: object\n",
      "\n",
      "Normalized Values:\n",
      "Cost_$                      0.104861\n",
      "CO2_Emissions_kg            0.109093\n",
      "Waste_Generated_kg          0.069027\n",
      "Energy_Consumption_kWh      0.160223\n",
      "Sustainability_Score_min    0.016639\n",
      "Max_Weighted_Deviation      0.032728\n",
      "Name: 88, dtype: object\n"
     ]
    }
   ],
   "source": [
    "# 2. Weighted Criteria (Minimax) Method\n",
    "\n",
    "weights = {\n",
    "    'Cost_$': 0.30,\n",
    "    'CO2_Emissions_kg': 0.30,\n",
    "    'Waste_Generated_kg': 0.13,\n",
    "    'Energy_Consumption_kWh': 0.13,\n",
    "    'Sustainability_Score_min': 0.14\n",
    "}\n",
    "\n",
    "reference_point = {\n",
    "    'Cost_$': df_normalized['Cost_$'].min(),\n",
    "    'CO2_Emissions_kg': df_normalized['CO2_Emissions_kg'].min(),\n",
    "    'Waste_Generated_kg': df_normalized['Waste_Generated_kg'].min(),\n",
    "    'Energy_Consumption_kWh': df_normalized['Energy_Consumption_kWh'].min(),\n",
    "    'Sustainability_Score_min': df_normalized['Sustainability_Score_min'].min()\n",
    "}\n",
    "\n",
    "def compute_max_deviation(row):\n",
    "    deviations = [\n",
    "        weights[obj] * abs(row[obj] - reference_point[obj])\n",
    "        for obj in weights\n",
    "    ]\n",
    "    return max(deviations)\n",
    "\n",
    "df_normalized['Max_Weighted_Deviation'] = df_normalized.apply(compute_max_deviation, axis=1)\n",
    "\n",
    "# Find index of best solution (minimum of max weighted deviation)\n",
    "best_idx = df_normalized['Max_Weighted_Deviation'].idxmin()\n",
    "\n",
    "# Get raw and normalized rows for best solution\n",
    "best_raw = df.loc[best_idx]\n",
    "best_norm = df_normalized.loc[best_idx]\n",
    "\n",
    "# Display combined results\n",
    "print(\" Weighted Criteria Method\")\n",
    "print(\"Raw Values:\")\n",
    "print(best_raw[['ID', 'Product_Type', 'Cost_$', 'CO2_Emissions_kg', 'Waste_Generated_kg',\n",
    "                'Energy_Consumption_kWh', 'Sustainability_Score']])\n",
    "print(\"\\nNormalized Values:\")\n",
    "print(best_norm[['Cost_$', 'CO2_Emissions_kg', 'Waste_Generated_kg', 'Energy_Consumption_kWh',\n",
    "                 'Sustainability_Score_min', 'Max_Weighted_Deviation']])\n"
   ]
  },
  {
   "cell_type": "code",
   "execution_count": 28,
   "id": "9129c7b3-fed1-4e44-90ea-7bb64a0c2b52",
   "metadata": {},
   "outputs": [
    {
     "name": "stdout",
     "output_type": "stream",
     "text": [
      "\n",
      "Two-Objective Epsilon-Constraint Method (Minimize Cost and CO2 emissions)\n",
      "ID                                    89\n",
      "Product_Type              Pharmaceutical\n",
      "Cost_$                        702.371043\n",
      "CO2_Emissions_kg              154.369958\n",
      "Waste_Generated_kg              4.381372\n",
      "Energy_Consumption_kWh        122.032236\n",
      "Sustainability_Score               90.22\n",
      "Name: 88, dtype: object\n"
     ]
    }
   ],
   "source": [
    "# Episilon- Constraint method\n",
    "# Step 1: Define Epsilon Thresholds (adjustable)\n",
    "epsilon_waste = df['Waste_Generated_kg'].quantile(0.2)\n",
    "epsilon_energy = df['Energy_Consumption_kWh'].quantile(0.2)\n",
    "epsilon_sustainability = df['Sustainability_Score'].quantile(0.8)\n",
    "\n",
    "# Step 2: Filter data using epsilon constraints\n",
    "epsilon_filtered_df = df[\n",
    "    (df['Waste_Generated_kg'] <= epsilon_waste) &\n",
    "    (df['Energy_Consumption_kWh'] <= epsilon_energy) &\n",
    "    (df['Sustainability_Score'] >= epsilon_sustainability)\n",
    "]\n",
    "\n",
    "# Step 3: Among filtered data, find those with minimum Cost\n",
    "if not epsilon_filtered_df.empty:\n",
    "    min_cost = epsilon_filtered_df['Cost_$'].min()\n",
    "    min_cost_df = epsilon_filtered_df[epsilon_filtered_df['Cost_$'] == min_cost]\n",
    "\n",
    "    # Step 4: Among those, choose the one with minimum CO2\n",
    "    final_solution = min_cost_df.loc[min_cost_df['CO2_Emissions_kg'].idxmin()]\n",
    "\n",
    "    # Step 5: Display the solution\n",
    "    print(\"\\nTwo-Objective Epsilon-Constraint Method (Minimize Cost and CO2 emissions)\")\n",
    "    print(final_solution[[\n",
    "        'ID', 'Product_Type', 'Cost_$', 'CO2_Emissions_kg',\n",
    "        'Waste_Generated_kg', 'Energy_Consumption_kWh', 'Sustainability_Score'\n",
    "    ]])\n",
    "else:\n",
    "    print(\"\\nNo solution found for the Epsilon-Constraint Method with the specified thresholds.\")\n",
    "    print(\"Consider relaxing constraints on Waste, Energy, or Sustainability.\")\n"
   ]
  },
  {
   "cell_type": "code",
   "execution_count": 22,
   "id": "d5cc90ff-0432-497c-ade4-ccf3b4927d76",
   "metadata": {},
   "outputs": [
    {
     "name": "stdout",
     "output_type": "stream",
     "text": [
      "Lexicographic Method with Joint Cost + CO2 Minimization (Using Normalized Data)\n",
      "ID                                   270\n",
      "Product_Type              Pharmaceutical\n",
      "Cost_$                        271.309388\n",
      "CO2_Emissions_kg               84.877296\n",
      "Waste_Generated_kg             14.102699\n",
      "Energy_Consumption_kWh         403.82519\n",
      "Sustainability_Score                77.3\n",
      "Name: 269, dtype: object\n"
     ]
    }
   ],
   "source": [
    "# Lexicographic Method\n",
    "\n",
    "# Step 1: Create composite score for Cost + CO2 (equal weights; adjust if needed)\n",
    "df['Primary_Score'] = df['Norm_Cost'] + df['Norm_CO2']\n",
    "\n",
    "# Step 2: Minimize Primary Score (Cost + CO2)\n",
    "min_primary_score = df['Primary_Score'].min()\n",
    "lex_df_1 = df[df['Primary_Score'] == min_primary_score]\n",
    "\n",
    "# Step 3: Among those, minimize Waste\n",
    "min_waste = lex_df_1['Waste_Generated_kg'].min()\n",
    "lex_df_2 = lex_df_1[lex_df_1['Waste_Generated_kg'] == min_waste]\n",
    "\n",
    "# Step 4: Among those, minimize Energy Consumption\n",
    "min_energy = lex_df_2['Energy_Consumption_kWh'].min()\n",
    "lex_df_3 = lex_df_2[lex_df_2['Energy_Consumption_kWh'] == min_energy]\n",
    "\n",
    "# Step 5: Among those, maximize Sustainability Score\n",
    "max_sustainability = lex_df_3['Sustainability_Score'].max()\n",
    "final_lex_solution = lex_df_3[lex_df_3['Sustainability_Score'] == max_sustainability].iloc[0]\n",
    "\n",
    "# Print the result\n",
    "print(\"Lexicographic Method with Joint Cost + CO2 Minimization\")\n",
    "print(final_lex_solution[[\n",
    "    'ID', 'Product_Type', 'Cost_$', 'CO2_Emissions_kg',\n",
    "    'Waste_Generated_kg', 'Energy_Consumption_kWh', 'Sustainability_Score'\n",
    "]])\n"
   ]
  },
  {
   "cell_type": "code",
   "execution_count": 29,
   "id": "a012a18d-935b-4320-91ab-160ec159cd6d",
   "metadata": {},
   "outputs": [
    {
     "name": "stdout",
     "output_type": "stream",
     "text": [
      "\n",
      "Preemptive Goal Programming Solution with Combined Cost & CO2 Priority\n",
      "ID                                     270\n",
      "Product_Type                Pharmaceutical\n",
      "Cost_$                          271.309388\n",
      "CO2_Emissions_kg                 84.877296\n",
      "Waste_Generated_kg               14.102699\n",
      "Energy_Consumption_kWh           403.82519\n",
      "Sustainability_Score                  77.3\n",
      "Deviation_Cost                   70.143303\n",
      "Deviation_CO2                    33.981052\n",
      "Deviation_Waste                  13.102129\n",
      "Deviation_Energy                353.764578\n",
      "Deviation_Sustainability             14.23\n",
      "Name: 269, dtype: object\n"
     ]
    }
   ],
   "source": [
    "#  Preemptive Goal Programming\n",
    "# Compute positive deviations from goals\n",
    "df['Deviation_Cost'] = (df['Cost_$'] - goal_cost).clip(lower=0)\n",
    "df['Deviation_CO2'] = (df['CO2_Emissions_kg'] - goal_co2).clip(lower=0)\n",
    "df['Deviation_Waste'] = (df['Waste_Generated_kg'] - goal_waste).clip(lower=0)\n",
    "df['Deviation_Energy'] = (df['Energy_Consumption_kWh'] - goal_energy).clip(lower=0)\n",
    "df['Deviation_Sustainability'] = (goal_sustainability - df['Sustainability_Score']).clip(lower=0)\n",
    "\n",
    "# Combine Cost and CO2 deviations as Priority 1 as both cost and co2 emmission hold important\n",
    "df['Priority1_Deviation'] = df['Deviation_Cost'] + df['Deviation_CO2']\n",
    "\n",
    "# Priority 1: Minimize combined Cost and CO2 deviation\n",
    "min_dev_priority1 = df['Priority1_Deviation'].min()\n",
    "df_stage1 = df[df['Priority1_Deviation'] == min_dev_priority1]\n",
    "\n",
    "# Priority 2: Minimize Waste deviation among above\n",
    "min_dev_waste = df_stage1['Deviation_Waste'].min()\n",
    "df_stage2 = df_stage1[df_stage1['Deviation_Waste'] == min_dev_waste]\n",
    "\n",
    "# Priority 3: Minimize Energy deviation\n",
    "min_dev_energy = df_stage2['Deviation_Energy'].min()\n",
    "df_stage3 = df_stage2[df_stage2['Deviation_Energy'] == min_dev_energy]\n",
    "\n",
    "# Priority 4: Minimize Sustainability deviation (maximize sustainability)\n",
    "min_dev_sustain = df_stage3['Deviation_Sustainability'].min()\n",
    "final_pg_solution = df_stage3[df_stage3['Deviation_Sustainability'] == min_dev_sustain].iloc[0]\n",
    "\n",
    "# Display Final Solution\n",
    "print(\"\\nPreemptive Goal Programming Solution with Combined Cost & CO2 Priority\")\n",
    "print(final_pg_solution[[\n",
    "    'ID', 'Product_Type', 'Cost_$', 'CO2_Emissions_kg', 'Waste_Generated_kg',\n",
    "    'Energy_Consumption_kWh', 'Sustainability_Score',\n",
    "    'Deviation_Cost', 'Deviation_CO2', 'Deviation_Waste', 'Deviation_Energy', 'Deviation_Sustainability'\n",
    "]])\n"
   ]
  }
 ],
 "metadata": {
  "kernelspec": {
   "display_name": "Python 3 (ipykernel)",
   "language": "python",
   "name": "python3"
  },
  "language_info": {
   "codemirror_mode": {
    "name": "ipython",
    "version": 3
   },
   "file_extension": ".py",
   "mimetype": "text/x-python",
   "name": "python",
   "nbconvert_exporter": "python",
   "pygments_lexer": "ipython3",
   "version": "3.12.4"
  }
 },
 "nbformat": 4,
 "nbformat_minor": 5
}
